{
 "cells": [
  {
   "cell_type": "code",
   "execution_count": 1,
   "metadata": {},
   "outputs": [],
   "source": [
    "from ExpectationMaximization import ExpectationMaximization\n",
    "import numpy as np\n",
    "import matplotlib.pyplot as plt"
   ]
  },
  {
   "cell_type": "code",
   "execution_count": 2,
   "metadata": {},
   "outputs": [],
   "source": [
    "kitti_path = '/scratch/local/hdd/hizkia/kitti'\n",
    "date = None\n",
    "reference_rectangle = (64, 128)\n",
    "min_original_rectangle = (32, 64)"
   ]
  },
  {
   "cell_type": "code",
   "execution_count": 3,
   "metadata": {},
   "outputs": [],
   "source": [
    "from scipy.stats import mode\n",
    "def normalize_depth(depth, instance):\n",
    "    return np.multiply(depth, instance == mode(instance.ravel())[0][0]) / np.median(depth[instance == mode(instance.ravel())[0][0]])"
   ]
  },
  {
   "cell_type": "code",
   "execution_count": 4,
   "metadata": {},
   "outputs": [],
   "source": [
    "em = ExpectationMaximization(kitti_path,\n",
    "                             date=date,\n",
    "                             reference_rectangle=reference_rectangle,\n",
    "                             min_original_rectangle=min_original_rectangle,\n",
    "                             depth_normalization_func=normalize_depth,\n",
    "                             max_iters = 5\n",
    "                            )"
   ]
  },
  {
   "cell_type": "code",
   "execution_count": null,
   "metadata": {},
   "outputs": [
    {
     "name": "stdout",
     "output_type": "stream",
     "text": [
      "Generating samples...\n",
      "Error with /scratch/local/hdd/hizkia/kitti/2011_09_29/2011_09_29_drive_0026_sync/image_02/data/0000000134.jpg\n",
      "Error with /scratch/local/hdd/hizkia/kitti/2011_09_30/2011_09_30_drive_0034_sync/image_02/data/0000000729.jpg\n",
      "Error with /scratch/local/hdd/hizkia/kitti/2011_09_30/2011_09_30_drive_0034_sync/image_02/data/0000001011.jpg\n",
      "Error with /scratch/local/hdd/hizkia/kitti/2011_09_30/2011_09_30_drive_0034_sync/image_02/data/0000001213.jpg\n",
      "Initializing EM yields a score of 241041409.9207095...\n",
      "Error with /scratch/local/hdd/hizkia/kitti/2011_09_29/2011_09_29_drive_0026_sync/image_02/data/0000000134.jpg\n",
      "Error with /scratch/local/hdd/hizkia/kitti/2011_09_30/2011_09_30_drive_0034_sync/image_02/data/0000000729.jpg\n",
      "Error with /scratch/local/hdd/hizkia/kitti/2011_09_30/2011_09_30_drive_0034_sync/image_02/data/0000001011.jpg\n",
      "Error with /scratch/local/hdd/hizkia/kitti/2011_09_30/2011_09_30_drive_0034_sync/image_02/data/0000001213.jpg\n",
      "29424\r"
     ]
    }
   ],
   "source": [
    "em.run()"
   ]
  },
  {
   "cell_type": "code",
   "execution_count": null,
   "metadata": {},
   "outputs": [],
   "source": []
  }
 ],
 "metadata": {
  "kernelspec": {
   "display_name": "Python 3.6.8 64-bit",
   "language": "python",
   "name": "python36864bit128012b6b7b24fb38791c389039fc2aa"
  },
  "language_info": {
   "codemirror_mode": {
    "name": "ipython",
    "version": 3
   },
   "file_extension": ".py",
   "mimetype": "text/x-python",
   "name": "python",
   "nbconvert_exporter": "python",
   "pygments_lexer": "ipython3",
   "version": "3.6.8"
  }
 },
 "nbformat": 4,
 "nbformat_minor": 2
}

{
 "cells": [
  {
   "cell_type": "code",
   "execution_count": 1,
   "metadata": {
    "scrolled": true
   },
   "outputs": [],
   "source": [
    "from ExpectationMaximization import ExpectationMaximization\n",
    "from DepthNormalization import *\n",
    "import numpy as np\n",
    "import matplotlib.pyplot as plt"
   ]
  },
  {
   "cell_type": "code",
   "execution_count": 2,
   "metadata": {},
   "outputs": [],
   "source": [
    "kitti_path = '/scratch/local/hdd/hizkia/kitti'\n",
    "dates = ['2011_09_26']\n",
    "reference_rectangle = (64, 128)\n",
    "min_original_rectangle = (32, 64)\n",
    "funcs = [rescale_minmax, rescale_minmax_masked]\n",
    "max_iters = 50"
   ]
  },
  {
   "cell_type": "code",
   "execution_count": 3,
   "metadata": {},
   "outputs": [
    {
     "name": "stdout",
     "output_type": "stream",
     "text": [
      "Running iteration for function rescale_minmax\n",
      "Generating samples...\n",
      "Initializing EM yields a score of 87834670.74196139...\n",
      "EM iteration 0 yields a score of 87834670.69687101\n",
      "EM iteration 1 yields a score of 87834671.2211671\n",
      "EM stopped with a score of 87834670.69687101\n",
      "Running iteration for function rescale_minmax_masked\n",
      "Generating samples...\n",
      "Initializing EM yields a score of 86705948.0889654...\n",
      "EM iteration 0 yields a score of 86720585.23953433\n",
      "EM stopped with a score of 86705948.0889654\n"
     ]
    }
   ],
   "source": [
    "for func in funcs:\n",
    "    print(f\"Running iteration for function {func.__name__}\")\n",
    "    em = ExpectationMaximization(kitti_path,\n",
    "                                 dates=dates,\n",
    "                                 reference_rectangle=reference_rectangle,\n",
    "                                 min_original_rectangle=min_original_rectangle,\n",
    "                                 depth_normalization_func=func,\n",
    "                                 max_iters = max_iters\n",
    "                                )\n",
    "    em.run()"
   ]
  },
  {
   "cell_type": "code",
   "execution_count": null,
   "metadata": {},
   "outputs": [],
   "source": []
  },
  {
   "cell_type": "code",
   "execution_count": null,
   "metadata": {},
   "outputs": [],
   "source": []
  },
  {
   "cell_type": "code",
   "execution_count": null,
   "metadata": {},
   "outputs": [],
   "source": []
  },
  {
   "cell_type": "code",
   "execution_count": null,
   "metadata": {},
   "outputs": [],
   "source": [
    "import torch\n",
    "from torch.utils.data import Dataset, DataLoader\n",
    "import os\n",
    "import pickle"
   ]
  },
  {
   "cell_type": "code",
   "execution_count": null,
   "metadata": {},
   "outputs": [],
   "source": [
    "class CarDataset(Dataset):\n",
    "    def __init__(self, base_path):\n",
    "        self.base_path = base_path\n",
    "        \n",
    "    def __len__(self):\n",
    "        return len(os.listdir(self.base_path))\n",
    "    \n",
    "    def __getitem__(self, idx):\n",
    "        if torch.is_tensor(idx):\n",
    "            idx = idx.tolist()\n",
    "        \n",
    "        with open(f'{self.base_path}/{idx}.pkl','rb') as input:\n",
    "            car = pickle.load(input)\n",
    "            \n",
    "        return car"
   ]
  }
 ],
 "metadata": {
  "kernelspec": {
   "display_name": "Python 3.6.8 64-bit",
   "language": "python",
   "name": "python36864bit128012b6b7b24fb38791c389039fc2aa"
  },
  "language_info": {
   "codemirror_mode": {
    "name": "ipython",
    "version": 3
   },
   "file_extension": ".py",
   "mimetype": "text/x-python",
   "name": "python",
   "nbconvert_exporter": "python",
   "pygments_lexer": "ipython3",
   "version": "3.6.8"
  }
 },
 "nbformat": 4,
 "nbformat_minor": 2
}

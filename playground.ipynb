{
 "cells": [
  {
   "cell_type": "code",
   "execution_count": 1,
   "metadata": {},
   "outputs": [],
   "source": [
    "from ExpectationMaximization import ExpectationMaximization\n",
    "from CarGenerator import CarGenerator\n",
    "import numpy as np\n",
    "import matplotlib.pyplot as plt"
   ]
  },
  {
   "cell_type": "code",
   "execution_count": 2,
   "metadata": {},
   "outputs": [],
   "source": [
    "kitti_path = '/scratch/local/hdd/hizkia/kitti'\n",
    "date = '2011_09_26'\n",
    "reference_rectangle = (64, 128)\n",
    "min_original_rectangle = (32, 64)\n",
    "max_iters = 50"
   ]
  },
  {
   "cell_type": "code",
   "execution_count": null,
   "metadata": {},
   "outputs": [
    {
     "name": "stdout",
     "output_type": "stream",
     "text": [
      "Generating samples...\n",
      "3067\r"
     ]
    }
   ],
   "source": [
    "em = ExpectationMaximization(kitti_path,\n",
    "                             date=date,\n",
    "                             reference_rectangle=reference_rectangle,\n",
    "                             min_original_rectangle=min_original_rectangle,\n",
    "                             depth_normalization_func=normalize_depth,\n",
    "                             max_iters = 50\n",
    "                            )\n",
    "em.run()"
   ]
  },
  {
   "cell_type": "code",
   "execution_count": null,
   "metadata": {},
   "outputs": [],
   "source": []
  }
 ],
 "metadata": {
  "kernelspec": {
   "display_name": "Python 3.6.8 64-bit",
   "language": "python",
   "name": "python36864bit128012b6b7b24fb38791c389039fc2aa"
  },
  "language_info": {
   "codemirror_mode": {
    "name": "ipython",
    "version": 3
   },
   "file_extension": ".py",
   "mimetype": "text/x-python",
   "name": "python",
   "nbconvert_exporter": "python",
   "pygments_lexer": "ipython3",
   "version": "3.6.8"
  }
 },
 "nbformat": 4,
 "nbformat_minor": 2
}

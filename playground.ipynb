{
 "cells": [
  {
   "cell_type": "code",
   "execution_count": 1,
   "metadata": {},
   "outputs": [],
   "source": [
    "from ExpectationMaximization import ExpectationMaximization\n",
    "import numpy as np\n",
    "import matplotlib.pyplot as plt\n",
    "from CarGenerator import CarGenerator, Direction\n",
    "from scipy.stats import mode"
   ]
  },
  {
   "cell_type": "code",
   "execution_count": 2,
   "metadata": {},
   "outputs": [],
   "source": [
    "kitti_path = '/scratch/local/hdd/hizkia/kitti'\n",
    "date = '2011_09_29'\n",
    "reference_rectangle = (64, 128)\n",
    "min_original_rectangle = (32, 64)"
   ]
  },
  {
   "cell_type": "code",
   "execution_count": 3,
   "metadata": {},
   "outputs": [],
   "source": [
    "def normalize_depth(depth, instance):\n",
    "    return np.multiply(depth, instance == mode(instance.ravel())[0][0]) / np.median(depth[instance == mode(instance.ravel())[0][0]])"
   ]
  },
  {
   "cell_type": "code",
   "execution_count": 3,
   "metadata": {},
   "outputs": [],
   "source": [
    "em = ExpectationMaximization(kitti_path,\n",
    "                             date=date,\n",
    "                             reference_rectangle=reference_rectangle,\n",
    "                             min_original_rectangle=min_original_rectangle,\n",
    "                             max_iters = 5\n",
    "                            )"
   ]
  },
  {
   "cell_type": "code",
   "execution_count": 4,
   "metadata": {},
   "outputs": [
    {
     "name": "stdout",
     "output_type": "stream",
     "text": [
      "Generating samples...\n",
      "Initializing EM yields a score of 113402769.16251183...\n",
      "EM stopped with a score of 113402769.16251183\n"
     ]
    }
   ],
   "source": [
    "em.run()"
   ]
  },
  {
   "cell_type": "code",
   "execution_count": 4,
   "metadata": {},
   "outputs": [],
   "source": [
    "generator = CarGenerator(kitti_path, date=date, reference_rectangle=reference_rectangle, min_original_rectangle=min_original_rectangle, depth_normalization_func=normalize_depth).load_dataset()"
   ]
  },
  {
   "cell_type": "code",
   "execution_count": 5,
   "metadata": {},
   "outputs": [],
   "source": [
    "def calculate_EM_score(normalized_samples, cov):\n",
    "    inv_cov = np.linalg.inv(cov)\n",
    "    return sum(np.apply_along_axis(lambda x: x.T @ inv_cov @ x, 0, normalized_samples))\n",
    "\n",
    "def _help(i, x):\n",
    "    print(i,end='\\r')\n",
    "    return x.normalized_depth.ravel()"
   ]
  },
  {
   "cell_type": "code",
   "execution_count": 6,
   "metadata": {
    "scrolled": true
   },
   "outputs": [
    {
     "name": "stdout",
     "output_type": "stream",
     "text": [
      "795\r"
     ]
    }
   ],
   "source": [
    "D = np.array([_help(i,x) for i,x in enumerate(generator)]).T"
   ]
  },
  {
   "cell_type": "code",
   "execution_count": 8,
   "metadata": {},
   "outputs": [],
   "source": [
    "mean = D.mean(axis = 1)\n",
    "A = D - mean.reshape((-1,1))\n",
    "cov = np.cov(A)\n",
    "if not np.all(np.linalg.eigvals(cov) > 0):\n",
    "    cov += np.eye(cov.shape[0])\n",
    "\n",
    "score = calculate_EM_score(A, cov)"
   ]
  },
  {
   "cell_type": "code",
   "execution_count": 9,
   "metadata": {},
   "outputs": [
    {
     "data": {
      "text/plain": [
       "115656.0273577545"
      ]
     },
     "execution_count": 9,
     "metadata": {},
     "output_type": "execute_result"
    }
   ],
   "source": [
    "score"
   ]
  },
  {
   "cell_type": "code",
   "execution_count": 12,
   "metadata": {},
   "outputs": [],
   "source": [
    "generator = CarGenerator(kitti_path, date=date, reference_rectangle=reference_rectangle, min_original_rectangle=min_original_rectangle, depth_normalization_func=normalize_depth, mean=mean, cov=cov, optimize_direction=Direction.HORIZONTAL).load_dataset()"
   ]
  },
  {
   "cell_type": "code",
   "execution_count": 13,
   "metadata": {
    "scrolled": true
   },
   "outputs": [
    {
     "name": "stdout",
     "output_type": "stream",
     "text": [
      "795\r"
     ]
    }
   ],
   "source": [
    "temp_D = np.array([_help(i,x) for i,x in enumerate(generator)]).T"
   ]
  },
  {
   "cell_type": "code",
   "execution_count": 14,
   "metadata": {},
   "outputs": [],
   "source": [
    "temp_mean = D.mean(axis=1)\n",
    "temp_A = temp_D - temp_mean.reshape((-1,1))\n",
    "temp_cov = np.cov(temp_A)\n",
    "if not np.all(np.linalg.eigvals(temp_cov) > 0):\n",
    "    temp_cov += np.eye(temp_cov.shape[0])\n",
    "\n",
    "temp_score = calculate_EM_score(temp_A, temp_cov)"
   ]
  },
  {
   "cell_type": "code",
   "execution_count": 15,
   "metadata": {},
   "outputs": [
    {
     "data": {
      "text/plain": [
       "115067.72766368101"
      ]
     },
     "execution_count": 15,
     "metadata": {},
     "output_type": "execute_result"
    }
   ],
   "source": [
    "calculate_EM_score(temp_A, temp_cov)"
   ]
  },
  {
   "cell_type": "code",
   "execution_count": 16,
   "metadata": {},
   "outputs": [],
   "source": []
  },
  {
   "cell_type": "code",
   "execution_count": 20,
   "metadata": {},
   "outputs": [
    {
     "data": {
      "text/plain": [
       "1208301.7541550347"
      ]
     },
     "execution_count": 20,
     "metadata": {},
     "output_type": "execute_result"
    }
   ],
   "source": [
    "calculate_EM_score(D-temp_mean.reshape((-1,1)), np.eye(8192))"
   ]
  },
  {
   "cell_type": "code",
   "execution_count": 21,
   "metadata": {},
   "outputs": [
    {
     "data": {
      "text/plain": [
       "1225069.108359625"
      ]
     },
     "execution_count": 21,
     "metadata": {},
     "output_type": "execute_result"
    }
   ],
   "source": [
    "calculate_EM_score(A, np.eye(8192))"
   ]
  }
 ],
 "metadata": {
  "kernelspec": {
   "display_name": "Python 3.6.8 64-bit",
   "language": "python",
   "name": "python36864bit128012b6b7b24fb38791c389039fc2aa"
  },
  "language_info": {
   "codemirror_mode": {
    "name": "ipython",
    "version": 3
   },
   "file_extension": ".py",
   "mimetype": "text/x-python",
   "name": "python",
   "nbconvert_exporter": "python",
   "pygments_lexer": "ipython3",
   "version": "3.6.8"
  }
 },
 "nbformat": 4,
 "nbformat_minor": 2
}
